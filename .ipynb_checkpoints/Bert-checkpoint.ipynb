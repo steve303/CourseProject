{
 "cells": [
  {
   "cell_type": "code",
   "execution_count": null,
   "metadata": {
    "colab": {
     "base_uri": "https://localhost:8080/"
    },
    "executionInfo": {
     "elapsed": 355,
     "status": "ok",
     "timestamp": 1607562650425,
     "user": {
      "displayName": "Steven Su",
      "photoUrl": "",
      "userId": "12872522105664994411"
     },
     "user_tz": 420
    },
    "id": "xBsZopXiuGNl",
    "outputId": "412cb635-456c-4283-decd-6cfc918123ce"
   },
   "outputs": [],
   "source": [
    "#Run on colab only\n",
    "#cd to folder which contain required external files\n",
    "from google.colab import drive\n",
    "drive.mount('/content/drive')\n",
    "%cd /content/drive/MyDrive/Colab\\ Notebooks/cs410/CourseProject "
   ]
  },
  {
   "cell_type": "code",
   "execution_count": null,
   "metadata": {
    "colab": {
     "base_uri": "https://localhost:8080/"
    },
    "executionInfo": {
     "elapsed": 13347,
     "status": "ok",
     "timestamp": 1607562663428,
     "user": {
      "displayName": "Steven Su",
      "photoUrl": "",
      "userId": "12872522105664994411"
     },
     "user_tz": 420
    },
    "id": "CUj3of3JE5ua",
    "outputId": "7a6ea4ec-f436-49e0-c072-6eb01d9592e5"
   },
   "outputs": [],
   "source": [
    "#Run on colab only\n",
    "#!pip install transformers\n",
    "!pip install git+https://github.com/huggingface/transformers.git"
   ]
  },
  {
   "cell_type": "code",
   "execution_count": null,
   "metadata": {
    "colab": {
     "base_uri": "https://localhost:8080/"
    },
    "executionInfo": {
     "elapsed": 15559,
     "status": "ok",
     "timestamp": 1607562665648,
     "user": {
      "displayName": "Steven Su",
      "photoUrl": "",
      "userId": "12872522105664994411"
     },
     "user_tz": 420
    },
    "id": "8E0wwjuJ9Rwr",
    "outputId": "3c71a8c2-72e3-4270-cf31-79916c93dbb5"
   },
   "outputs": [],
   "source": [
    "#Run on colab only\n",
    "!pip install emoji --upgrade"
   ]
  },
  {
   "cell_type": "code",
   "execution_count": null,
   "metadata": {
    "colab": {
     "base_uri": "https://localhost:8080/"
    },
    "executionInfo": {
     "elapsed": 18095,
     "status": "ok",
     "timestamp": 1607562668198,
     "user": {
      "displayName": "Steven Su",
      "photoUrl": "",
      "userId": "12872522105664994411"
     },
     "user_tz": 420
    },
    "id": "JTVQh4lf6VTe",
    "outputId": "f120fec5-6cca-4127-fe29-b38937deaeec"
   },
   "outputs": [],
   "source": [
    "import tensorflow as tf \n",
    "import tensorflow_hub as hub \n",
    "from tensorflow.keras import layers\n",
    "from transformers import DistilBertTokenizer, TFDistilBertForSequenceClassification\n",
    "from transformers import BertTokenizer, TFBertForSequenceClassification\n",
    "import sklearn\n",
    "import numpy as np \n",
    "import pandas as pd \n",
    "import json\n",
    "import re\n",
    "import random\n",
    "import math\n",
    "from TEXT_PREPROCESSING import preprocess_text\n",
    "from tqdm import tqdm"
   ]
  },
  {
   "cell_type": "code",
   "execution_count": null,
   "metadata": {
    "colab": {
     "base_uri": "https://localhost:8080/"
    },
    "executionInfo": {
     "elapsed": 20936,
     "status": "ok",
     "timestamp": 1607562671045,
     "user": {
      "displayName": "Steven Su",
      "photoUrl": "",
      "userId": "12872522105664994411"
     },
     "user_tz": 420
    },
    "id": "lKLcMTfG-fZd",
    "outputId": "a3a91806-7dd2-4653-866a-be07a6cb693c"
   },
   "outputs": [],
   "source": [
    "# LOADING DATA\n",
    "categorized_tweets = pd.read_json('./data/train.jsonl', lines = True)\n",
    "categorized_tweets.isnull().values.any()\n",
    "print(categorized_tweets)\n",
    "\n",
    "# PREPROCESSING DATA\n",
    "tweets = []\n",
    "data = list(categorized_tweets[\"response\"])\n",
    "print(data[0])\n",
    "for d in data:\n",
    "    tweets.append(preprocess_text(d))\n",
    "\n",
    "y = categorized_tweets[\"label\"]\n",
    "y = np.array(list(map(lambda x: 1 if x==\"SARCASM\" else 0, y)))\n",
    "print(tweets[9])"
   ]
  },
  {
   "cell_type": "code",
   "execution_count": null,
   "metadata": {
    "executionInfo": {
     "elapsed": 23821,
     "status": "ok",
     "timestamp": 1607562673938,
     "user": {
      "displayName": "Steven Su",
      "photoUrl": "",
      "userId": "12872522105664994411"
     },
     "user_tz": 420
    },
    "id": "MmdV7Bl8HaY9"
   },
   "outputs": [],
   "source": [
    "# TOKENIZING DATA\n",
    "train_data, val_data, train_lab, val_lab = sklearn.model_selection.train_test_split(tweets, y, test_size=0.2, random_state=34)\n",
    "\n",
    "##for more details https://huggingface.co/transformers/model_doc/distilbert.html\n",
    "Bert_method = 1\n",
    "if Bert_method == 0:\n",
    "    model_class = TFDistilBertForSequenceClassification\n",
    "    tok_class = DistilBertTokenizer\n",
    "    pretrained_model = 'distilbert-base-uncased'\n",
    "else:    \n",
    "    model_class = TFBertForSequenceClassification\n",
    "    tok_class = BertTokenizer\n",
    "    pretrained_model = 'bert-base-uncased'\n",
    "\n",
    "tokenizer = tok_class.from_pretrained(pretrained_model) \n",
    "train_tok = tokenizer(train_data, truncation=True, padding=True)\n",
    "val_tok = tokenizer(val_data, truncation=True, padding=True)"
   ]
  },
  {
   "cell_type": "code",
   "execution_count": null,
   "metadata": {
    "colab": {
     "base_uri": "https://localhost:8080/"
    },
    "executionInfo": {
     "elapsed": 23817,
     "status": "ok",
     "timestamp": 1607562673939,
     "user": {
      "displayName": "Steven Su",
      "photoUrl": "",
      "userId": "12872522105664994411"
     },
     "user_tz": 420
    },
    "id": "UBYKV3KtIFzj",
    "outputId": "ebe25010-8ba8-48b4-b177-0f478e5dba29"
   },
   "outputs": [],
   "source": [
    "type(train_tok)"
   ]
  },
  {
   "cell_type": "code",
   "execution_count": null,
   "metadata": {
    "colab": {
     "base_uri": "https://localhost:8080/"
    },
    "executionInfo": {
     "elapsed": 23812,
     "status": "ok",
     "timestamp": 1607562673940,
     "user": {
      "displayName": "Steven Su",
      "photoUrl": "",
      "userId": "12872522105664994411"
     },
     "user_tz": 420
    },
    "id": "6C8TRaxUIMUX",
    "outputId": "041bd669-bb80-4460-bfcf-67dce3eaf06c"
   },
   "outputs": [],
   "source": [
    "#print(train_tok.values)\n",
    "print(train_tok.keys())"
   ]
  },
  {
   "cell_type": "code",
   "execution_count": null,
   "metadata": {
    "colab": {
     "base_uri": "https://localhost:8080/"
    },
    "executionInfo": {
     "elapsed": 23807,
     "status": "ok",
     "timestamp": 1607562673941,
     "user": {
      "displayName": "Steven Su",
      "photoUrl": "",
      "userId": "12872522105664994411"
     },
     "user_tz": 420
    },
    "id": "KFf9xSJ8OJzc",
    "outputId": "8bed482b-9e1c-4466-eece-9068399f4a49"
   },
   "outputs": [],
   "source": [
    "d = dict(train_tok)\n",
    "d.keys()"
   ]
  },
  {
   "cell_type": "code",
   "execution_count": null,
   "metadata": {
    "executionInfo": {
     "elapsed": 28146,
     "status": "ok",
     "timestamp": 1607562678285,
     "user": {
      "displayName": "Steven Su",
      "photoUrl": "",
      "userId": "12872522105664994411"
     },
     "user_tz": 420
    },
    "id": "CseeOudC9mon"
   },
   "outputs": [],
   "source": [
    "# Create dataset object\n",
    "train_tok_as_dict = dict(train_tok)\n",
    "val_tok_as_dict = dict(val_tok)\n",
    "train_data = tf.data.Dataset.from_tensor_slices((train_tok_as_dict,train_lab))\n",
    "val_data = tf.data.Dataset.from_tensor_slices((val_tok_as_dict, val_lab))"
   ]
  },
  {
   "cell_type": "code",
   "execution_count": null,
   "metadata": {
    "colab": {
     "base_uri": "https://localhost:8080/"
    },
    "executionInfo": {
     "elapsed": 29531,
     "status": "ok",
     "timestamp": 1607562679675,
     "user": {
      "displayName": "Steven Su",
      "photoUrl": "",
      "userId": "12872522105664994411"
     },
     "user_tz": 420
    },
    "id": "s7p_U7teCfbB",
    "outputId": "d0b5acce-2577-4e73-aa18-ccead7c228f8",
    "scrolled": true
   },
   "outputs": [],
   "source": [
    "# Build Model\n",
    "model = model_class.from_pretrained(pretrained_model, num_labels=2)\n",
    "opt = tf.keras.optimizers.Adam(learning_rate=.00005,  beta_1=0.9, beta_2=0.999, amsgrad=False)\n",
    "model.compile(loss=model.compute_loss, optimizer= opt, metrics=['accuracy'])\n",
    "print(model.summary())"
   ]
  },
  {
   "cell_type": "code",
   "execution_count": null,
   "metadata": {
    "colab": {
     "base_uri": "https://localhost:8080/"
    },
    "executionInfo": {
     "elapsed": 226893,
     "status": "ok",
     "timestamp": 1607562877044,
     "user": {
      "displayName": "Steven Su",
      "photoUrl": "",
      "userId": "12872522105664994411"
     },
     "user_tz": 420
    },
    "id": "gYlvykgS3vcG",
    "outputId": "fb0cb3c2-0827-481a-9804-5911ad98241a",
    "scrolled": true
   },
   "outputs": [],
   "source": [
    "# Fit model\n",
    "model.fit(train_data.batch(32), epochs=2, batch_size=32, validation_data=val_data.batch(32))"
   ]
  },
  {
   "cell_type": "code",
   "execution_count": null,
   "metadata": {
    "executionInfo": {
     "elapsed": 239940,
     "status": "ok",
     "timestamp": 1607562890097,
     "user": {
      "displayName": "Steven Su",
      "photoUrl": "",
      "userId": "12872522105664994411"
     },
     "user_tz": 420
    },
    "id": "KPTTFKmaKaHF"
   },
   "outputs": [],
   "source": [
    "# Predict using model\n",
    "uncat_tweets = pd.read_json('./data/test.jsonl', lines = True)\n",
    "un_tweets = []\n",
    "uncat_data = list(uncat_tweets[\"response\"])\n",
    "\n",
    "for d in uncat_data:\n",
    "    un_tweets.append(preprocess_text(d))\n",
    "    \n",
    "tokenized_un_tweets = tokenizer(un_tweets, truncation=True, padding=True, return_tensors='tf')\n",
    "predictions = tf.nn.softmax(model(tokenized_un_tweets)[0], axis=1).numpy()[:,1]"
   ]
  },
  {
   "cell_type": "code",
   "execution_count": null,
   "metadata": {
    "colab": {
     "base_uri": "https://localhost:8080/"
    },
    "executionInfo": {
     "elapsed": 239940,
     "status": "ok",
     "timestamp": 1607562890101,
     "user": {
      "displayName": "Steven Su",
      "photoUrl": "",
      "userId": "12872522105664994411"
     },
     "user_tz": 420
    },
    "id": "PiZ5BSwGVEyi",
    "outputId": "a7305983-649d-4faa-a855-1844314d86c5"
   },
   "outputs": [],
   "source": [
    "predictions[0:10]"
   ]
  },
  {
   "cell_type": "code",
   "execution_count": null,
   "metadata": {
    "colab": {
     "base_uri": "https://localhost:8080/"
    },
    "executionInfo": {
     "elapsed": 239934,
     "status": "ok",
     "timestamp": 1607562890102,
     "user": {
      "displayName": "Steven Su",
      "photoUrl": "",
      "userId": "12872522105664994411"
     },
     "user_tz": 420
    },
    "id": "YC3SQVl96CLv",
    "outputId": "38921259-ef49-4a20-c020-773bfd04d1b2"
   },
   "outputs": [],
   "source": [
    "# Write predictions to file\n",
    "with open('answer_x.txt', 'w') as f:\n",
    "    c = 1\n",
    "    s_c = 0\n",
    "    ns_c = 0\n",
    "    for p in predictions:\n",
    "        if p >= .5:\n",
    "            f.write(\"twitter_\" + str(c) + \",\" + \"SARCASM\\n\")\n",
    "            c += 1\n",
    "            s_c += 1\n",
    "        else:\n",
    "            f.write(\"twitter_\" + str(c) + \",\" + \"NOT_SARCASM\\n\")\n",
    "            c += 1\n",
    "            ns_c += 1\n",
    "print(\"# sarcasm: \" + str(s_c))\n",
    "print(\"# not sarcasm: \" + str(ns_c))\n"
   ]
  }
 ],
 "metadata": {
  "accelerator": "GPU",
  "colab": {
   "collapsed_sections": [],
   "name": "Bert.ipynb",
   "provenance": [
    {
     "file_id": "1IoryoNpytzq-7shaKsVmj5SbBMAuceqI",
     "timestamp": 1607556515822
    },
    {
     "file_id": "10qEtz2_Cgt34phzG_-R7MfJOlpSCcvak",
     "timestamp": 1607541936738
    }
   ]
  },
  "kernelspec": {
   "display_name": "Python 3",
   "language": "python",
   "name": "python3"
  },
  "language_info": {
   "codemirror_mode": {
    "name": "ipython",
    "version": 3
   },
   "file_extension": ".py",
   "mimetype": "text/x-python",
   "name": "python",
   "nbconvert_exporter": "python",
   "pygments_lexer": "ipython3",
   "version": "3.7.9"
  }
 },
 "nbformat": 4,
 "nbformat_minor": 1
}
