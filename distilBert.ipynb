{
 "cells": [
  {
   "cell_type": "code",
   "execution_count": null,
   "metadata": {
    "colab": {
     "base_uri": "https://localhost:8080/"
    },
    "executionInfo": {
     "elapsed": 8164,
     "status": "ok",
     "timestamp": 1606414803089,
     "user": {
      "displayName": "Steven Su",
      "photoUrl": "",
      "userId": "12872522105664994411"
     },
     "user_tz": 420
    },
    "id": "CUj3of3JE5ua",
    "outputId": "080b6d12-0338-4c21-8254-e3d92661479c"
   },
   "outputs": [],
   "source": [
    "#Run on colab only\n",
    "!pip install transformers"
   ]
  },
  {
   "cell_type": "code",
   "execution_count": null,
   "metadata": {
    "colab": {
     "base_uri": "https://localhost:8080/"
    },
    "executionInfo": {
     "elapsed": 9816,
     "status": "ok",
     "timestamp": 1606414809903,
     "user": {
      "displayName": "Steven Su",
      "photoUrl": "",
      "userId": "12872522105664994411"
     },
     "user_tz": 420
    },
    "id": "8E0wwjuJ9Rwr",
    "outputId": "63d85049-8741-40e0-b2f3-364f166ab6ce"
   },
   "outputs": [],
   "source": [
    "#Run on colab only\n",
    "!pip install emoji --upgrade"
   ]
  },
  {
   "cell_type": "code",
   "execution_count": null,
   "metadata": {
    "colab": {
     "base_uri": "https://localhost:8080/"
    },
    "executionInfo": {
     "elapsed": 9119,
     "status": "ok",
     "timestamp": 1606414810625,
     "user": {
      "displayName": "Steven Su",
      "photoUrl": "",
      "userId": "12872522105664994411"
     },
     "user_tz": 420
    },
    "id": "No_VGWsT9YZx",
    "outputId": "0526733a-2113-491e-df48-c9a3b8584211"
   },
   "outputs": [],
   "source": [
    "#Run on colab only\n",
    "#cd to folder which contain required external files\n",
    "from google.colab import drive\n",
    "drive.mount('/content/drive')\n",
    "%cd /content/drive/MyDrive/Colab\\ Notebooks/cs410/CourseProject "
   ]
  },
  {
   "cell_type": "code",
   "execution_count": null,
   "metadata": {
    "executionInfo": {
     "elapsed": 10779,
     "status": "ok",
     "timestamp": 1606414815050,
     "user": {
      "displayName": "Steven Su",
      "photoUrl": "",
      "userId": "12872522105664994411"
     },
     "user_tz": 420
    },
    "id": "JTVQh4lf6VTe"
   },
   "outputs": [],
   "source": [
    "import tensorflow as tf \n",
    "import tensorflow_hub as hub \n",
    "from tensorflow.keras import layers\n",
    "from transformers import DistilBertTokenizer\n",
    "from transformers import TFDistilBertForSequenceClassification\n",
    "import sklearn\n",
    "import numpy as np \n",
    "import pandas as pd \n",
    "import json\n",
    "import re\n",
    "import random\n",
    "import math\n",
    "from TEXT_PREPROCESSING import preprocess_text\n",
    "from tqdm import tqdm"
   ]
  },
  {
   "cell_type": "code",
   "execution_count": null,
   "metadata": {
    "colab": {
     "base_uri": "https://localhost:8080/"
    },
    "executionInfo": {
     "elapsed": 16531,
     "status": "ok",
     "timestamp": 1606414824044,
     "user": {
      "displayName": "Steven Su",
      "photoUrl": "",
      "userId": "12872522105664994411"
     },
     "user_tz": 420
    },
    "id": "lKLcMTfG-fZd",
    "outputId": "0924e07f-dc50-4d80-a895-c066ca28769b"
   },
   "outputs": [],
   "source": [
    "# LOADING DATA\n",
    "categorized_tweets = pd.read_json('./data/train.jsonl', lines = True)\n",
    "categorized_tweets.isnull().values.any()\n",
    "print(categorized_tweets)\n",
    "\n",
    "# PREPROCESSING DATA\n",
    "tweets = []\n",
    "data = list(categorized_tweets[\"response\"])\n",
    "print(data[0])\n",
    "for d in data:\n",
    "    tweets.append(preprocess_text(d))\n",
    "\n",
    "y = categorized_tweets[\"label\"]\n",
    "y = np.array(list(map(lambda x: 1 if x==\"SARCASM\" else 0, y)))\n",
    "print(tweets[9])"
   ]
  },
  {
   "cell_type": "code",
   "execution_count": null,
   "metadata": {
    "colab": {
     "base_uri": "https://localhost:8080/"
    },
    "executionInfo": {
     "elapsed": 221912,
     "status": "ok",
     "timestamp": 1606415033406,
     "user": {
      "displayName": "Steven Su",
      "photoUrl": "",
      "userId": "12872522105664994411"
     },
     "user_tz": 420
    },
    "id": "MmdV7Bl8HaY9",
    "outputId": "835eb596-6167-4197-a109-1f0b9f845a06"
   },
   "outputs": [],
   "source": [
    "# TOKENIZING DATA\n",
    "train_data, val_data, train_lab, val_lab = sklearn.model_selection.train_test_split(tweets, y, test_size=0.2, random_state=34)\n",
    "tokenizer = DistilBertTokenizer.from_pretrained('distilbert-base-uncased')\n",
    "\n",
    "train_tok = tokenizer(train_data, truncation=True, padding=True)\n",
    "val_tok = tokenizer(val_data, truncation=True, padding=True)"
   ]
  },
  {
   "cell_type": "code",
   "execution_count": null,
   "metadata": {
    "colab": {
     "base_uri": "https://localhost:8080/"
    },
    "executionInfo": {
     "elapsed": 1392,
     "status": "ok",
     "timestamp": 1606415034825,
     "user": {
      "displayName": "Steven Su",
      "photoUrl": "",
      "userId": "12872522105664994411"
     },
     "user_tz": 420
    },
    "id": "CseeOudC9mon",
    "outputId": "3c4095e3-87b7-42a6-987b-d41ffe79ca02"
   },
   "outputs": [],
   "source": [
    "# Create dataset object\n",
    "train_data = tf.data.Dataset.from_tensor_slices((dict(train_tok),train_lab))\n",
    "val_data = tf.data.Dataset.from_tensor_slices((dict(val_tok), val_lab))"
   ]
  },
  {
   "cell_type": "code",
   "execution_count": null,
   "metadata": {
    "colab": {
     "base_uri": "https://localhost:8080/"
    },
    "executionInfo": {
     "elapsed": 517,
     "status": "ok",
     "timestamp": 1606430164750,
     "user": {
      "displayName": "Steven Su",
      "photoUrl": "",
      "userId": "12872522105664994411"
     },
     "user_tz": 420
    },
    "id": "s7p_U7teCfbB",
    "outputId": "e0912a41-d056-49e1-d2d8-89984435d6a6",
    "scrolled": true
   },
   "outputs": [],
   "source": [
    "# Build Model\n",
    "model = TFDistilBertForSequenceClassification.from_pretrained('distilbert-base-uncased', num_labels=2)\n",
    "opt = tf.keras.optimizers.Adam(learning_rate=.0001)\n",
    "model.compile(loss=model.compute_loss, optimizer= opt, metrics=['accuracy'])\n",
    "print(model.summary())"
   ]
  },
  {
   "cell_type": "code",
   "execution_count": null,
   "metadata": {
    "colab": {
     "base_uri": "https://localhost:8080/"
    },
    "executionInfo": {
     "elapsed": 208987,
     "status": "ok",
     "timestamp": 1606430075015,
     "user": {
      "displayName": "Steven Su",
      "photoUrl": "",
      "userId": "12872522105664994411"
     },
     "user_tz": 420
    },
    "id": "gYlvykgS3vcG",
    "outputId": "7c16d92d-fa1e-4529-8ad5-46cac2dd03e4",
    "scrolled": true
   },
   "outputs": [],
   "source": [
    "# Fit model\n",
    "model.fit(train_data.batch(32), epochs=2, batch_size=32, validation_data=val_data.batch(32))"
   ]
  },
  {
   "cell_type": "code",
   "execution_count": null,
   "metadata": {
    "colab": {
     "base_uri": "https://localhost:8080/"
    },
    "executionInfo": {
     "elapsed": 3372,
     "status": "ok",
     "timestamp": 1606428522980,
     "user": {
      "displayName": "Steven Su",
      "photoUrl": "",
      "userId": "12872522105664994411"
     },
     "user_tz": 420
    },
    "id": "KPTTFKmaKaHF",
    "outputId": "94b6bd68-9a98-464a-f3da-9b9f4a8a54cd"
   },
   "outputs": [],
   "source": [
    "# Predict using model\n",
    "uncat_tweets = pd.read_json('./data/test.jsonl', lines = True)\n",
    "un_tweets = []\n",
    "uncat_data = list(uncat_tweets[\"response\"])\n",
    "\n",
    "for d in uncat_data:\n",
    "    un_tweets.append(preprocess_text(d))\n",
    "    \n",
    "tokenized_un_tweets = tokenizer(un_tweets, truncation=True, padding=True, return_tensors='tf')\n",
    "predictions = tf.nn.softmax(model(tokenized_un_tweets)[0], axis=1).numpy()[:,1]\n",
    "#print(predictions)"
   ]
  },
  {
   "cell_type": "code",
   "execution_count": null,
   "metadata": {
    "colab": {
     "base_uri": "https://localhost:8080/"
    },
    "executionInfo": {
     "elapsed": 1165,
     "status": "ok",
     "timestamp": 1606428537706,
     "user": {
      "displayName": "Steven Su",
      "photoUrl": "",
      "userId": "12872522105664994411"
     },
     "user_tz": 420
    },
    "id": "YC3SQVl96CLv",
    "outputId": "02678a8a-54af-4bb3-d6a7-afea5077f9d4"
   },
   "outputs": [],
   "source": [
    "# Write predictions to file\n",
    "with open('answer.txt', 'w') as f:\n",
    "    c = 1\n",
    "    s_c = 0\n",
    "    ns_c = 0\n",
    "    for p in predictions:\n",
    "        if p >= .5:\n",
    "            f.write(\"twitter_\" + str(c) + \",\" + \"SARCASM\\n\")\n",
    "            c += 1\n",
    "            s_c += 1\n",
    "        else:\n",
    "            f.write(\"twitter_\" + str(c) + \",\" + \"NOT_SARCASM\\n\")\n",
    "            c += 1\n",
    "            ns_c += 1\n",
    "print(\"# sarcasm: \" + str(s_c))\n",
    "print(\"# not sarcasm: \" + str(ns_c))\n"
   ]
  }
 ],
 "metadata": {
  "colab": {
   "authorship_tag": "ABX9TyOl2L8QA/TClBAFwIG41eHD",
   "collapsed_sections": [],
   "mount_file_id": "1xfyV0_yB3OkLVKR3-IErLDAcYsRL9oc7",
   "name": "3layer_wDropouts.ipynb",
   "provenance": []
  },
  "kernelspec": {
   "display_name": "Python 3",
   "language": "python",
   "name": "python3"
  },
  "language_info": {
   "codemirror_mode": {
    "name": "ipython",
    "version": 3
   },
   "file_extension": ".py",
   "mimetype": "text/x-python",
   "name": "python",
   "nbconvert_exporter": "python",
   "pygments_lexer": "ipython3",
   "version": "3.7.9"
  }
 },
 "nbformat": 4,
 "nbformat_minor": 1
}
